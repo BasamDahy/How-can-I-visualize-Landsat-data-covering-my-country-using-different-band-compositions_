{
 "cells": [
  {
   "cell_type": "markdown",
   "id": "382a0a4b",
   "metadata": {},
   "source": [
    "This tutorial will guide you through the process of visualizing Landsat data that covers your country by overlaying Landsat scenes on your country's borders. For example, we will use Egypt. We will use the false color band composition of Landsat-8 OLI, where the \"green area\" appears in red. Please make sure to adjust the geographic coordinates [Lat, Long] on line #9 to match your country's specifications. For Egypt, the coordinates should be adjusted to [31,32]. Also, remember to update the country name on line #4 (countries filter) and line #5 (filter bounds). Before beginning, you must install the Conda package and the Python package, specifically the folium library.\n",
    "\n",
    "Best regards,\n",
    "Dr. Basam Dahy (dohaibassam@gmail.com)"
   ]
  },
  {
   "cell_type": "code",
   "execution_count": 1,
   "id": "993494a3",
   "metadata": {},
   "outputs": [],
   "source": [
    "import ee"
   ]
  },
  {
   "cell_type": "code",
   "execution_count": 2,
   "id": "df743464",
   "metadata": {},
   "outputs": [
    {
     "data": {
      "text/html": [
       "<p>To authorize access needed by Earth Engine, open the following\n",
       "        URL in a web browser and follow the instructions:</p>\n",
       "        <p><a href=https://code.earthengine.google.com/client-auth?scopes=https%3A//www.googleapis.com/auth/earthengine%20https%3A//www.googleapis.com/auth/devstorage.full_control&request_id=gRO1SeW373bq7W6wpEJavjfCxWr-mhgNlT7BUXXCYrs&tc=Uli8fG7RIeI4BEAiNjsSoRROoSitRXz_7SVPRLLLbcM&cc=6lDgKd0NWiwzzlRZKsnsOKlfb82HkeJ5CxrbCV6WNBI>https://code.earthengine.google.com/client-auth?scopes=https%3A//www.googleapis.com/auth/earthengine%20https%3A//www.googleapis.com/auth/devstorage.full_control&request_id=gRO1SeW373bq7W6wpEJavjfCxWr-mhgNlT7BUXXCYrs&tc=Uli8fG7RIeI4BEAiNjsSoRROoSitRXz_7SVPRLLLbcM&cc=6lDgKd0NWiwzzlRZKsnsOKlfb82HkeJ5CxrbCV6WNBI</a></p>\n",
       "        <p>The authorization workflow will generate a code, which you should paste in the box below.</p>\n",
       "        "
      ],
      "text/plain": [
       "<IPython.core.display.HTML object>"
      ]
     },
     "metadata": {},
     "output_type": "display_data"
    },
    {
     "name": "stdout",
     "output_type": "stream",
     "text": [
      "Enter verification code: 4/1AWtgzh5-m12S92I3FIMxYb0FkHjONY8PiN4rTDQTudX9CQK1d4VLEuNEruA\n",
      "\n",
      "Successfully saved authorization token.\n"
     ]
    }
   ],
   "source": [
    "ee.Authenticate()"
   ]
  },
  {
   "cell_type": "code",
   "execution_count": 3,
   "id": "7301b0d6",
   "metadata": {},
   "outputs": [],
   "source": [
    "ee.Initialize()"
   ]
  },
  {
   "cell_type": "code",
   "execution_count": 4,
   "id": "48df5525",
   "metadata": {},
   "outputs": [],
   "source": [
    "countries = ee.FeatureCollection(\"USDOS/LSIB_SIMPLE/2017\");\n",
    "Egypt = countries.filter(ee.Filter.eq(\"country_na\", \"Egypt\"))"
   ]
  },
  {
   "cell_type": "code",
   "execution_count": 5,
   "id": "e6353759",
   "metadata": {},
   "outputs": [],
   "source": [
    "landsat = ee.ImageCollection(\"LANDSAT/LC08/C01/T1\").filterDate(\"2016-01-01\", \"2017-01-01\").filterBounds(Egypt)\n",
    "composite = ee.Algorithms.Landsat.simpleComposite(**{\n",
    "    'collection': landsat,\n",
    "    'asFloat': True\n",
    "})\n",
    "\n",
    "rgbVis = {'bands': ['B4', 'B3', 'B2'], 'min': 0, 'max': 0.3}\n",
    "nirVis = {'bands': ['B5', 'B4', 'B3'], 'min': 0, 'max': [0.5, 0.3, 0.3]}"
   ]
  },
  {
   "cell_type": "code",
   "execution_count": 6,
   "id": "a6dc46d4",
   "metadata": {},
   "outputs": [],
   "source": [
    "import folium"
   ]
  },
  {
   "cell_type": "code",
   "execution_count": 7,
   "id": "00fd1a2f",
   "metadata": {},
   "outputs": [],
   "source": [
    "def add_ee_layer(self, ee_image_object, vis_params, name):\n",
    "  map_id_dict = ee.Image(ee_image_object).getMapId(vis_params)\n",
    "  folium.raster_layers.TileLayer(\n",
    "    tiles = map_id_dict['tile_fetcher'].url_format,\n",
    "    attr = 'Map Data &copy; <a href=\"https://earthengine.google.com/\">Google Earth Engine</a>',\n",
    "    name = name,\n",
    "    overlay = True,\n",
    "    control = True\n",
    "  ).add_to(self)"
   ]
  },
  {
   "cell_type": "code",
   "execution_count": 8,
   "id": "9d0237d8",
   "metadata": {},
   "outputs": [],
   "source": [
    "folium.Map.add_ee_layer = add_ee_layer"
   ]
  },
  {
   "cell_type": "code",
   "execution_count": 9,
   "id": "d5f76ed4",
   "metadata": {},
   "outputs": [],
   "source": [
    "my_map = folium.Map(location=[31, 32], zoom_start = 6)"
   ]
  },
  {
   "cell_type": "code",
   "execution_count": 10,
   "id": "67652b79",
   "metadata": {},
   "outputs": [],
   "source": [
    "my_map.add_ee_layer(composite, rgbVis, \"RGB\")\n",
    "my_map.add_ee_layer(composite, nirVis, \"False Color\")"
   ]
  },
  {
   "cell_type": "code",
   "execution_count": 11,
   "id": "938c340f",
   "metadata": {},
   "outputs": [
    {
     "data": {
      "text/html": [
       "<div style=\"width:100%;\"><div style=\"position:relative;width:100%;height:0;padding-bottom:60%;\"><span style=\"color:#565656\">Make this Notebook Trusted to load map: File -> Trust Notebook</span><iframe srcdoc=\"&lt;!DOCTYPE html&gt;\n",
       "&lt;html&gt;\n",
       "&lt;head&gt;\n",
       "    \n",
       "    &lt;meta http-equiv=&quot;content-type&quot; content=&quot;text/html; charset=UTF-8&quot; /&gt;\n",
       "    \n",
       "        &lt;script&gt;\n",
       "            L_NO_TOUCH = false;\n",
       "            L_DISABLE_3D = false;\n",
       "        &lt;/script&gt;\n",
       "    \n",
       "    &lt;style&gt;html, body {width: 100%;height: 100%;margin: 0;padding: 0;}&lt;/style&gt;\n",
       "    &lt;style&gt;#map {position:absolute;top:0;bottom:0;right:0;left:0;}&lt;/style&gt;\n",
       "    &lt;script src=&quot;https://cdn.jsdelivr.net/npm/leaflet@1.9.3/dist/leaflet.js&quot;&gt;&lt;/script&gt;\n",
       "    &lt;script src=&quot;https://code.jquery.com/jquery-1.12.4.min.js&quot;&gt;&lt;/script&gt;\n",
       "    &lt;script src=&quot;https://cdn.jsdelivr.net/npm/bootstrap@5.2.2/dist/js/bootstrap.bundle.min.js&quot;&gt;&lt;/script&gt;\n",
       "    &lt;script src=&quot;https://cdnjs.cloudflare.com/ajax/libs/Leaflet.awesome-markers/2.0.2/leaflet.awesome-markers.js&quot;&gt;&lt;/script&gt;\n",
       "    &lt;link rel=&quot;stylesheet&quot; href=&quot;https://cdn.jsdelivr.net/npm/leaflet@1.9.3/dist/leaflet.css&quot;/&gt;\n",
       "    &lt;link rel=&quot;stylesheet&quot; href=&quot;https://cdn.jsdelivr.net/npm/bootstrap@5.2.2/dist/css/bootstrap.min.css&quot;/&gt;\n",
       "    &lt;link rel=&quot;stylesheet&quot; href=&quot;https://netdna.bootstrapcdn.com/bootstrap/3.0.0/css/bootstrap.min.css&quot;/&gt;\n",
       "    &lt;link rel=&quot;stylesheet&quot; href=&quot;https://cdn.jsdelivr.net/npm/@fortawesome/fontawesome-free@6.2.0/css/all.min.css&quot;/&gt;\n",
       "    &lt;link rel=&quot;stylesheet&quot; href=&quot;https://cdnjs.cloudflare.com/ajax/libs/Leaflet.awesome-markers/2.0.2/leaflet.awesome-markers.css&quot;/&gt;\n",
       "    &lt;link rel=&quot;stylesheet&quot; href=&quot;https://cdn.jsdelivr.net/gh/python-visualization/folium/folium/templates/leaflet.awesome.rotate.min.css&quot;/&gt;\n",
       "    \n",
       "            &lt;meta name=&quot;viewport&quot; content=&quot;width=device-width,\n",
       "                initial-scale=1.0, maximum-scale=1.0, user-scalable=no&quot; /&gt;\n",
       "            &lt;style&gt;\n",
       "                #map_461b9d7791996c57b53c6582902faac1 {\n",
       "                    position: relative;\n",
       "                    width: 100.0%;\n",
       "                    height: 100.0%;\n",
       "                    left: 0.0%;\n",
       "                    top: 0.0%;\n",
       "                }\n",
       "                .leaflet-container { font-size: 1rem; }\n",
       "            &lt;/style&gt;\n",
       "        \n",
       "&lt;/head&gt;\n",
       "&lt;body&gt;\n",
       "    \n",
       "    \n",
       "            &lt;div class=&quot;folium-map&quot; id=&quot;map_461b9d7791996c57b53c6582902faac1&quot; &gt;&lt;/div&gt;\n",
       "        \n",
       "&lt;/body&gt;\n",
       "&lt;script&gt;\n",
       "    \n",
       "    \n",
       "            var map_461b9d7791996c57b53c6582902faac1 = L.map(\n",
       "                &quot;map_461b9d7791996c57b53c6582902faac1&quot;,\n",
       "                {\n",
       "                    center: [31.0, 32.0],\n",
       "                    crs: L.CRS.EPSG3857,\n",
       "                    zoom: 6,\n",
       "                    zoomControl: true,\n",
       "                    preferCanvas: false,\n",
       "                }\n",
       "            );\n",
       "\n",
       "            \n",
       "\n",
       "        \n",
       "    \n",
       "            var tile_layer_47568f50bc3fb6abc40840a512dd099e = L.tileLayer(\n",
       "                &quot;https://{s}.tile.openstreetmap.org/{z}/{x}/{y}.png&quot;,\n",
       "                {&quot;attribution&quot;: &quot;Data by \\u0026copy; \\u003ca target=\\&quot;_blank\\&quot; href=\\&quot;http://openstreetmap.org\\&quot;\\u003eOpenStreetMap\\u003c/a\\u003e, under \\u003ca target=\\&quot;_blank\\&quot; href=\\&quot;http://www.openstreetmap.org/copyright\\&quot;\\u003eODbL\\u003c/a\\u003e.&quot;, &quot;detectRetina&quot;: false, &quot;maxNativeZoom&quot;: 18, &quot;maxZoom&quot;: 18, &quot;minZoom&quot;: 0, &quot;noWrap&quot;: false, &quot;opacity&quot;: 1, &quot;subdomains&quot;: &quot;abc&quot;, &quot;tms&quot;: false}\n",
       "            ).addTo(map_461b9d7791996c57b53c6582902faac1);\n",
       "        \n",
       "    \n",
       "            var tile_layer_19bf0df9a53b638719e0b7ab150bea4e = L.tileLayer(\n",
       "                &quot;https://earthengine.googleapis.com/v1alpha/projects/earthengine-legacy/maps/af8ed675f34576403c234e68101b75ae-fa21d916ff7f54994c48c724953a3458/tiles/{z}/{x}/{y}&quot;,\n",
       "                {&quot;attribution&quot;: &quot;Map Data \\u0026copy; \\u003ca href=\\&quot;https://earthengine.google.com/\\&quot;\\u003eGoogle Earth Engine\\u003c/a\\u003e&quot;, &quot;detectRetina&quot;: false, &quot;maxNativeZoom&quot;: 18, &quot;maxZoom&quot;: 18, &quot;minZoom&quot;: 0, &quot;noWrap&quot;: false, &quot;opacity&quot;: 1, &quot;subdomains&quot;: &quot;abc&quot;, &quot;tms&quot;: false}\n",
       "            ).addTo(map_461b9d7791996c57b53c6582902faac1);\n",
       "        \n",
       "    \n",
       "            var tile_layer_e71580f550c1803694d3f0632bc17726 = L.tileLayer(\n",
       "                &quot;https://earthengine.googleapis.com/v1alpha/projects/earthengine-legacy/maps/0bc1e8bd3de2a41c9f7f886d89381680-22e94a836c2e6162b14a6667282bb225/tiles/{z}/{x}/{y}&quot;,\n",
       "                {&quot;attribution&quot;: &quot;Map Data \\u0026copy; \\u003ca href=\\&quot;https://earthengine.google.com/\\&quot;\\u003eGoogle Earth Engine\\u003c/a\\u003e&quot;, &quot;detectRetina&quot;: false, &quot;maxNativeZoom&quot;: 18, &quot;maxZoom&quot;: 18, &quot;minZoom&quot;: 0, &quot;noWrap&quot;: false, &quot;opacity&quot;: 1, &quot;subdomains&quot;: &quot;abc&quot;, &quot;tms&quot;: false}\n",
       "            ).addTo(map_461b9d7791996c57b53c6582902faac1);\n",
       "        \n",
       "    \n",
       "            var layer_control_a1dea952d3b30e78663a45913d151f3e = {\n",
       "                base_layers : {\n",
       "                    &quot;openstreetmap&quot; : tile_layer_47568f50bc3fb6abc40840a512dd099e,\n",
       "                },\n",
       "                overlays :  {\n",
       "                    &quot;RGB&quot; : tile_layer_19bf0df9a53b638719e0b7ab150bea4e,\n",
       "                    &quot;False Color&quot; : tile_layer_e71580f550c1803694d3f0632bc17726,\n",
       "                },\n",
       "            };\n",
       "            L.control.layers(\n",
       "                layer_control_a1dea952d3b30e78663a45913d151f3e.base_layers,\n",
       "                layer_control_a1dea952d3b30e78663a45913d151f3e.overlays,\n",
       "                {&quot;autoZIndex&quot;: true, &quot;collapsed&quot;: true, &quot;position&quot;: &quot;topright&quot;}\n",
       "            ).addTo(map_461b9d7791996c57b53c6582902faac1);\n",
       "        \n",
       "&lt;/script&gt;\n",
       "&lt;/html&gt;\" style=\"position:absolute;width:100%;height:100%;left:0;top:0;border:none !important;\" allowfullscreen webkitallowfullscreen mozallowfullscreen></iframe></div></div>"
      ],
      "text/plain": [
       "<folium.folium.Map at 0x15552502d0d0>"
      ]
     },
     "metadata": {},
     "output_type": "display_data"
    }
   ],
   "source": [
    "my_map.add_child(folium.LayerControl())\n",
    "display(my_map)"
   ]
  },
  {
   "cell_type": "code",
   "execution_count": null,
   "id": "a67c08d6",
   "metadata": {},
   "outputs": [],
   "source": []
  }
 ],
 "metadata": {
  "kernelspec": {
   "display_name": "Gee",
   "language": "python",
   "name": "myenv"
  },
  "language_info": {
   "codemirror_mode": {
    "name": "ipython",
    "version": 3
   },
   "file_extension": ".py",
   "mimetype": "text/x-python",
   "name": "python",
   "nbconvert_exporter": "python",
   "pygments_lexer": "ipython3",
   "version": "3.8.16"
  }
 },
 "nbformat": 4,
 "nbformat_minor": 5
}
